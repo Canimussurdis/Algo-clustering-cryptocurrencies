{
 "cells": [
  {
   "cell_type": "code",
   "execution_count": 1,
   "id": "4cf81bc2",
   "metadata": {},
   "outputs": [],
   "source": [
    "#импорт необходимых библиотек\n",
    "#Авторы: Рукавишников Алексей, Шестаков Кирилл, Константинова Александра, Кравец Полина\n",
    "\n",
    "import numpy as np\n",
    "import pandas as pd\n",
    "import os\n",
    "import time\n",
    "import datetime\n",
    "from random import randint, seed\n",
    "\n",
    "import seaborn as sns\n",
    "import matplotlib.pyplot as plt\n",
    "\n",
    "from tslearn.clustering import TimeSeriesKMeans, silhouette_score\n",
    "\n",
    "from core_changed import Backtest, PlotPoint, IStrategy\n",
    "from multiprocessing import Pool\n",
    "from math import log\n",
    "from datetime import datetime"
   ]
  },
  {
   "cell_type": "code",
   "execution_count": 2,
   "id": "06ef425c",
   "metadata": {},
   "outputs": [],
   "source": [
    "total_path = 'C:\\\\Users\\\\Алексей\\\\Учеба\\\\ЦМФ\\\\Проекты\\\\Алготрейдинг\\\\Задание 6'\n",
    "data_path = total_path + '\\\\stock_data'"
   ]
  },
  {
   "cell_type": "code",
   "execution_count": 3,
   "id": "fe3810f0",
   "metadata": {},
   "outputs": [],
   "source": [
    "file_list = os.listdir(data_path)"
   ]
  },
  {
   "cell_type": "code",
   "execution_count": 4,
   "id": "e9c5bc91",
   "metadata": {},
   "outputs": [],
   "source": [
    "def fill_na_custom_long(ts, border):\n",
    "    \n",
    "    # функция заполенения пропущенных значений. Принимает ряд и максимальную длину куска Nan в ряде\n",
    "    # заполняет найденные куски линейной интерполяцией соседних значений. Если Nan на границе ряда - не учитывает их.\n",
    "    size = list(np.arange(1,border+1))\n",
    "\n",
    "\n",
    "    for i in size:\n",
    "        flag_list = list()\n",
    "        for j in range(0,len(ts[:(-1)*i])):\n",
    "\n",
    "            el_flag = check_el(ts, j, i)\n",
    "            flag_list.append(el_flag)\n",
    "\n",
    "        flag_list = flag_list\n",
    "\n",
    "        for j in range(0,len(flag_list)):\n",
    "            if flag_list[j] == True:\n",
    "                step = (ts[j+i] - ts[j-1])/(i+1)\n",
    "                for k in range(0,i):\n",
    "                    ts[j+k] = np.round(ts[j-1]+step*(k+1),2)\n",
    "                \n",
    "                \n",
    "    return ts"
   ]
  },
  {
   "cell_type": "code",
   "execution_count": 5,
   "id": "0f9e294a",
   "metadata": {},
   "outputs": [],
   "source": [
    "def check_el(ts, num_el, length):\n",
    "    \n",
    "    # функция поиска кусков Nan в ряде. Принимает ряд, номер элемента в ряде и число length последующих элементов\n",
    "    # Если элемент и все length следующих элементов nan, а length+1 не Nan, возвращает True\n",
    "    # В остальных возвращает False. Не оптимизирована (при вылете за индексацию списка будет падать)\n",
    "    \n",
    "    if ts[num_el]!=ts[num_el]:\n",
    "        if ts[num_el-1]==ts[num_el-1]:\n",
    "            sub_list = ts[num_el:num_el+length]\n",
    "            sub_list_flag = [i!=i for i in sub_list]\n",
    "            end_check = (ts[num_el+length]==ts[num_el+length])\n",
    "            if all(sub_list_flag) and end_check:\n",
    "                return True\n",
    "            else:\n",
    "                return False\n",
    "\n",
    "\n",
    "        else:\n",
    "            return False\n",
    "    else:\n",
    "        return False"
   ]
  },
  {
   "cell_type": "code",
   "execution_count": 6,
   "id": "a2121530",
   "metadata": {},
   "outputs": [],
   "source": [
    "def cacl_Nan_col(df, pr, return_Flag = True):\n",
    "    # кастомная функция подсчета Nan в колонках. Возвращает список колонок для удаления (если флаг True), или \n",
    "    # пишет долю строк с Nan выше pr при флаге False\n",
    "    col_Nan = pd.DataFrame(df.isnull().sum(axis = 0),columns=['Nan'])\n",
    "    res = len(col_Nan[col_Nan['Nan'] > pr * len(df)])\n",
    "    \n",
    "    \n",
    "    if return_Flag == True:\n",
    "        return list(col_Nan[col_Nan['Nan'] > pr * len(df)].index)\n",
    "    else:\n",
    "        print('В '+str(res)+' колонках Nan больше '+str(int(pr*100))+'%')"
   ]
  },
  {
   "cell_type": "code",
   "execution_count": 7,
   "id": "8e5ade2c",
   "metadata": {},
   "outputs": [],
   "source": [
    "def fill_na_custom(ts):\n",
    "    \n",
    "    # функция заполнения Nan. Если в ряде Nan одиночное (слева и справа непустые значения), заполняет средним.\n",
    "    # принимает: временной ряд\n",
    "    # возвращает: временной ряд с заполненными (если прошли по условию) Nan\n",
    "    flag_list = [True if ((ts[i]!=ts[i]) & ((ts[i-1]==ts[i-1]) | (ts[i+1]==ts[i+1]))) else False for i in range(1,len(ts)-1)]\n",
    "    flag_list = [False] + flag_list\n",
    "    flag_list = flag_list + [False]\n",
    "    ts = [ts[i] if flag_list[i]==False else (ts[i-1]+ts[i+1])/2  for i in range(0,len(ts))]\n",
    "    \n",
    "    return ts"
   ]
  },
  {
   "cell_type": "code",
   "execution_count": 8,
   "id": "fd84b376",
   "metadata": {},
   "outputs": [],
   "source": [
    "def fill_na_custom_long(ts, border):\n",
    "    \n",
    "    # функция заполнения Nan. Если в ряде есть отрезок Nan <= border (слева и справа непустые значения), \n",
    "    # заполняет интерполяцией крайних значений.\n",
    "    # принимает: временной ряд\n",
    "    # возвращает: временной ряд с заполненными (если прошли по условию) Nan\n",
    "    flag_list = [True if ((ts[i]!=ts[i]) & ((ts[i-1]==ts[i-1]) | (ts[i+1]==ts[i+1]))) else False for i in range(1,len(ts)-1)]\n",
    "    flag_list = [False] + flag_list\n",
    "    flag_list = flag_list + [False]\n",
    "    ts = [ts[i] if flag_list[i]==False else (ts[i-1]+ts[i+1])/2  for i in range(0,len(ts))]\n",
    "    \n",
    "    return ts"
   ]
  },
  {
   "cell_type": "code",
   "execution_count": null,
   "id": "5ee58cf4",
   "metadata": {},
   "outputs": [],
   "source": []
  },
  {
   "cell_type": "code",
   "execution_count": 9,
   "id": "a6899020",
   "metadata": {},
   "outputs": [],
   "source": [
    "def cacl_Nan_row(df, pr, return_Flag = True):\n",
    "    # кастомная функция подсчета Nan в строках. Возвращает список строк для удаления (если флаг True), или \n",
    "    # пишет долю строк с Nan выше pr при флаге False\n",
    "    row_Nan = pd.DataFrame(df.isnull().sum(axis = 1),columns=['Nan'])\n",
    "    res = len(row_Nan[row_Nan['Nan'] > pr * len(df.columns)])\n",
    "    \n",
    "    \n",
    "    if return_Flag == True:\n",
    "        return list(row_Nan[row_Nan['Nan'] > pr * len(df.columns)].index)\n",
    "    else:\n",
    "        print('В '+str(res)+' строках Nan больше '+str(int(pr*100))+'%')"
   ]
  },
  {
   "cell_type": "code",
   "execution_count": 10,
   "id": "61127948",
   "metadata": {},
   "outputs": [],
   "source": [
    "#объединим все в один фрейм\n",
    "\n",
    "# total_df = pd.DataFrame()\n",
    "\n",
    "# for i in file_list:\n",
    "#     if i != '.DS_Store':\n",
    "#         data = pd.read_excel(data_path+'/'+i)\n",
    "#         ticker_name = i[:-4]\n",
    "#         data[ticker_name] = data['close']\n",
    "#         data = data[['Index',ticker_name]]\n",
    "\n",
    "#         if len(total_df) == 0:\n",
    "#             total_df = data.copy()\n",
    "#         else:\n",
    "#             total_df = total_df.merge(data, on = 'Index', how = 'outer')"
   ]
  },
  {
   "cell_type": "code",
   "execution_count": 11,
   "id": "932bcb31",
   "metadata": {},
   "outputs": [],
   "source": [
    "total_df = pd.read_csv('china_close_total.csv')\n",
    "\n",
    "\n",
    "total_df = total_df.rename({'Index':'Datetime'}, axis = 1)"
   ]
  },
  {
   "cell_type": "code",
   "execution_count": 12,
   "id": "322f584f",
   "metadata": {},
   "outputs": [],
   "source": [
    "total_df.sort_values(by='Datetime', inplace=True)\n",
    "total_df = total_df.reset_index(drop=True)"
   ]
  },
  {
   "cell_type": "markdown",
   "id": "d4bdc869",
   "metadata": {},
   "source": [
    "##### места, где длина пропуска <=5 заменим линейной апроксимацией"
   ]
  },
  {
   "cell_type": "code",
   "execution_count": 13,
   "id": "cbeeb2de",
   "metadata": {},
   "outputs": [],
   "source": [
    "for i in list(total_df.columns)[1:]:\n",
    "    ts = list(total_df[i])\n",
    "    ts = fill_na_custom_long(ts, 5)\n",
    "    total_df[i] = ts"
   ]
  },
  {
   "cell_type": "markdown",
   "id": "e4c1c82b",
   "metadata": {},
   "source": [
    "построим график зависимости числа пропусков от даты"
   ]
  },
  {
   "cell_type": "code",
   "execution_count": 14,
   "id": "f93f0487",
   "metadata": {},
   "outputs": [
    {
     "data": {
      "text/plain": [
       "Text(0, 0.5, 'Число Nan')"
      ]
     },
     "execution_count": 14,
     "metadata": {},
     "output_type": "execute_result"
    },
    {
     "data": {
      "image/png": "[encoded data removed]",
      "text/plain": [
       "<Figure size 640x480 with 1 Axes>"
      ]
     },
     "metadata": {},
     "output_type": "display_data"
    }
   ],
   "source": [
    "sub_df = pd.DataFrame(total_df.isnull().sum(axis = 1))\n",
    "x = list(sub_df.index)\n",
    "y = list(sub_df[0])\n",
    "\n",
    "fig, ax = plt.subplots()\n",
    "ax.plot(x,y)\n",
    "plt.xlabel('Дата' , size=16)\n",
    "plt.grid()\n",
    "plt.ylabel('Число Nan', size=16)"
   ]
  },
  {
   "cell_type": "code",
   "execution_count": 15,
   "id": "287e4ec4",
   "metadata": {},
   "outputs": [],
   "source": [
    "border = 6500"
   ]
  },
  {
   "cell_type": "code",
   "execution_count": 16,
   "id": "4be00d92",
   "metadata": {},
   "outputs": [
    {
     "data": {
      "text/html": [
       "<div>\n",
       "<style scoped>\n",
       "    .dataframe tbody tr th:only-of-type {\n",
       "        vertical-align: middle;\n",
       "    }\n",
       "\n",
       "    .dataframe tbody tr th {\n",
       "        vertical-align: top;\n",
       "    }\n",
       "\n",
       "    .dataframe thead th {\n",
       "        text-align: right;\n",
       "    }\n",
       "</style>\n",
       "<table border=\"1\" class=\"dataframe\">\n",
       "  <thead>\n",
       "    <tr style=\"text-align: right;\">\n",
       "      <th></th>\n",
       "      <th>0</th>\n",
       "    </tr>\n",
       "  </thead>\n",
       "  <tbody>\n",
       "    <tr>\n",
       "      <th>6500</th>\n",
       "      <td>2188</td>\n",
       "    </tr>\n",
       "  </tbody>\n",
       "</table>\n",
       "</div>"
      ],
      "text/plain": [
       "         0\n",
       "6500  2188"
      ]
     },
     "execution_count": 16,
     "metadata": {},
     "output_type": "execute_result"
    }
   ],
   "source": [
    "sub_df[sub_df.index == border]"
   ]
  },
  {
   "cell_type": "code",
   "execution_count": 17,
   "id": "dc623dc2",
   "metadata": {},
   "outputs": [
    {
     "data": {
      "text/plain": [
       "6500    2017-04-18 00:00:00\n",
       "Name: Datetime, dtype: object"
      ]
     },
     "execution_count": 17,
     "metadata": {},
     "output_type": "execute_result"
    }
   ],
   "source": [
    "total_df[total_df.index == border]['Datetime']"
   ]
  },
  {
   "cell_type": "markdown",
   "id": "74eddfc6",
   "metadata": {},
   "source": [
    "видно, что в начале очень много пропусков. Возьмем даты >= 6500 (2017-04-18 и позже)"
   ]
  },
  {
   "cell_type": "code",
   "execution_count": 18,
   "id": "99c531f1",
   "metadata": {},
   "outputs": [],
   "source": [
    "total_df = total_df[total_df['Datetime']>='2017-04-18']\n",
    "total_df = total_df.reset_index(drop=True)\n",
    "\n",
    "start_date = list(total_df['Datetime'])"
   ]
  },
  {
   "cell_type": "code",
   "execution_count": 19,
   "id": "90898325",
   "metadata": {},
   "outputs": [
    {
     "data": {
      "text/html": [
       "<div>\n",
       "<style scoped>\n",
       "    .dataframe tbody tr th:only-of-type {\n",
       "        vertical-align: middle;\n",
       "    }\n",
       "\n",
       "    .dataframe tbody tr th {\n",
       "        vertical-align: top;\n",
       "    }\n",
       "\n",
       "    .dataframe thead th {\n",
       "        text-align: right;\n",
       "    }\n",
       "</style>\n",
       "<table border=\"1\" class=\"dataframe\">\n",
       "  <thead>\n",
       "    <tr style=\"text-align: right;\">\n",
       "      <th></th>\n",
       "      <th>Datetime</th>\n",
       "      <th>000001</th>\n",
       "      <th>000002</th>\n",
       "      <th>000003</th>\n",
       "      <th>000004</th>\n",
       "      <th>000005</th>\n",
       "      <th>000006</th>\n",
       "      <th>000007</th>\n",
       "      <th>000008</th>\n",
       "      <th>000009</th>\n",
       "      <th>...</th>\n",
       "      <th>871396</th>\n",
       "      <th>871553</th>\n",
       "      <th>871642</th>\n",
       "      <th>871857</th>\n",
       "      <th>871970</th>\n",
       "      <th>871981</th>\n",
       "      <th>872925</th>\n",
       "      <th>873122</th>\n",
       "      <th>873169</th>\n",
       "      <th>873223</th>\n",
       "    </tr>\n",
       "  </thead>\n",
       "  <tbody>\n",
       "    <tr>\n",
       "      <th>0</th>\n",
       "      <td>2017-04-18 00:00:00</td>\n",
       "      <td>7.99</td>\n",
       "      <td>14.49</td>\n",
       "      <td>NaN</td>\n",
       "      <td>NaN</td>\n",
       "      <td>6.31</td>\n",
       "      <td>NaN</td>\n",
       "      <td>NaN</td>\n",
       "      <td>8.71</td>\n",
       "      <td>7.57</td>\n",
       "      <td>...</td>\n",
       "      <td>NaN</td>\n",
       "      <td>NaN</td>\n",
       "      <td>NaN</td>\n",
       "      <td>NaN</td>\n",
       "      <td>NaN</td>\n",
       "      <td>NaN</td>\n",
       "      <td>NaN</td>\n",
       "      <td>NaN</td>\n",
       "      <td>NaN</td>\n",
       "      <td>NaN</td>\n",
       "    </tr>\n",
       "    <tr>\n",
       "      <th>1</th>\n",
       "      <td>2017-04-19 00:00:00</td>\n",
       "      <td>7.85</td>\n",
       "      <td>14.55</td>\n",
       "      <td>NaN</td>\n",
       "      <td>NaN</td>\n",
       "      <td>6.19</td>\n",
       "      <td>NaN</td>\n",
       "      <td>NaN</td>\n",
       "      <td>8.62</td>\n",
       "      <td>7.44</td>\n",
       "      <td>...</td>\n",
       "      <td>NaN</td>\n",
       "      <td>NaN</td>\n",
       "      <td>NaN</td>\n",
       "      <td>NaN</td>\n",
       "      <td>NaN</td>\n",
       "      <td>NaN</td>\n",
       "      <td>NaN</td>\n",
       "      <td>NaN</td>\n",
       "      <td>NaN</td>\n",
       "      <td>NaN</td>\n",
       "    </tr>\n",
       "    <tr>\n",
       "      <th>2</th>\n",
       "      <td>2017-04-20 00:00:00</td>\n",
       "      <td>7.86</td>\n",
       "      <td>14.65</td>\n",
       "      <td>NaN</td>\n",
       "      <td>NaN</td>\n",
       "      <td>6.16</td>\n",
       "      <td>NaN</td>\n",
       "      <td>NaN</td>\n",
       "      <td>8.62</td>\n",
       "      <td>7.49</td>\n",
       "      <td>...</td>\n",
       "      <td>NaN</td>\n",
       "      <td>NaN</td>\n",
       "      <td>NaN</td>\n",
       "      <td>NaN</td>\n",
       "      <td>NaN</td>\n",
       "      <td>NaN</td>\n",
       "      <td>NaN</td>\n",
       "      <td>NaN</td>\n",
       "      <td>NaN</td>\n",
       "      <td>NaN</td>\n",
       "    </tr>\n",
       "    <tr>\n",
       "      <th>3</th>\n",
       "      <td>2017-04-21 00:00:00</td>\n",
       "      <td>7.91</td>\n",
       "      <td>14.70</td>\n",
       "      <td>NaN</td>\n",
       "      <td>NaN</td>\n",
       "      <td>6.19</td>\n",
       "      <td>NaN</td>\n",
       "      <td>NaN</td>\n",
       "      <td>8.67</td>\n",
       "      <td>7.38</td>\n",
       "      <td>...</td>\n",
       "      <td>NaN</td>\n",
       "      <td>NaN</td>\n",
       "      <td>NaN</td>\n",
       "      <td>NaN</td>\n",
       "      <td>NaN</td>\n",
       "      <td>NaN</td>\n",
       "      <td>NaN</td>\n",
       "      <td>NaN</td>\n",
       "      <td>NaN</td>\n",
       "      <td>NaN</td>\n",
       "    </tr>\n",
       "    <tr>\n",
       "      <th>4</th>\n",
       "      <td>2017-04-24 00:00:00</td>\n",
       "      <td>7.87</td>\n",
       "      <td>14.45</td>\n",
       "      <td>NaN</td>\n",
       "      <td>NaN</td>\n",
       "      <td>6.01</td>\n",
       "      <td>NaN</td>\n",
       "      <td>NaN</td>\n",
       "      <td>8.56</td>\n",
       "      <td>7.02</td>\n",
       "      <td>...</td>\n",
       "      <td>NaN</td>\n",
       "      <td>NaN</td>\n",
       "      <td>NaN</td>\n",
       "      <td>NaN</td>\n",
       "      <td>NaN</td>\n",
       "      <td>NaN</td>\n",
       "      <td>NaN</td>\n",
       "      <td>NaN</td>\n",
       "      <td>NaN</td>\n",
       "      <td>NaN</td>\n",
       "    </tr>\n",
       "    <tr>\n",
       "      <th>...</th>\n",
       "      <td>...</td>\n",
       "      <td>...</td>\n",
       "      <td>...</td>\n",
       "      <td>...</td>\n",
       "      <td>...</td>\n",
       "      <td>...</td>\n",
       "      <td>...</td>\n",
       "      <td>...</td>\n",
       "      <td>...</td>\n",
       "      <td>...</td>\n",
       "      <td>...</td>\n",
       "      <td>...</td>\n",
       "      <td>...</td>\n",
       "      <td>...</td>\n",
       "      <td>...</td>\n",
       "      <td>...</td>\n",
       "      <td>...</td>\n",
       "      <td>...</td>\n",
       "      <td>...</td>\n",
       "      <td>...</td>\n",
       "      <td>...</td>\n",
       "    </tr>\n",
       "    <tr>\n",
       "      <th>1335</th>\n",
       "      <td>2022-10-14 00:00:00</td>\n",
       "      <td>11.53</td>\n",
       "      <td>17.02</td>\n",
       "      <td>NaN</td>\n",
       "      <td>8.55</td>\n",
       "      <td>1.72</td>\n",
       "      <td>NaN</td>\n",
       "      <td>7.94</td>\n",
       "      <td>2.27</td>\n",
       "      <td>12.63</td>\n",
       "      <td>...</td>\n",
       "      <td>7.62</td>\n",
       "      <td>3.46</td>\n",
       "      <td>6.76</td>\n",
       "      <td>8.78</td>\n",
       "      <td>9.08</td>\n",
       "      <td>14.56</td>\n",
       "      <td>16.11</td>\n",
       "      <td>11.39</td>\n",
       "      <td>6.68</td>\n",
       "      <td>3.97</td>\n",
       "    </tr>\n",
       "    <tr>\n",
       "      <th>1336</th>\n",
       "      <td>2022-10-17 00:00:00</td>\n",
       "      <td>11.48</td>\n",
       "      <td>16.60</td>\n",
       "      <td>NaN</td>\n",
       "      <td>8.80</td>\n",
       "      <td>1.73</td>\n",
       "      <td>NaN</td>\n",
       "      <td>7.93</td>\n",
       "      <td>2.29</td>\n",
       "      <td>12.50</td>\n",
       "      <td>...</td>\n",
       "      <td>7.60</td>\n",
       "      <td>3.51</td>\n",
       "      <td>7.03</td>\n",
       "      <td>8.86</td>\n",
       "      <td>9.15</td>\n",
       "      <td>14.57</td>\n",
       "      <td>16.03</td>\n",
       "      <td>11.53</td>\n",
       "      <td>6.90</td>\n",
       "      <td>3.92</td>\n",
       "    </tr>\n",
       "    <tr>\n",
       "      <th>1337</th>\n",
       "      <td>2022-10-18 00:00:00</td>\n",
       "      <td>11.48</td>\n",
       "      <td>16.38</td>\n",
       "      <td>NaN</td>\n",
       "      <td>8.83</td>\n",
       "      <td>1.74</td>\n",
       "      <td>NaN</td>\n",
       "      <td>7.92</td>\n",
       "      <td>2.40</td>\n",
       "      <td>12.82</td>\n",
       "      <td>...</td>\n",
       "      <td>7.63</td>\n",
       "      <td>3.49</td>\n",
       "      <td>6.97</td>\n",
       "      <td>8.85</td>\n",
       "      <td>9.10</td>\n",
       "      <td>14.62</td>\n",
       "      <td>15.62</td>\n",
       "      <td>13.02</td>\n",
       "      <td>7.04</td>\n",
       "      <td>4.03</td>\n",
       "    </tr>\n",
       "    <tr>\n",
       "      <th>1338</th>\n",
       "      <td>2022-10-19 00:00:00</td>\n",
       "      <td>11.29</td>\n",
       "      <td>16.17</td>\n",
       "      <td>NaN</td>\n",
       "      <td>8.70</td>\n",
       "      <td>1.71</td>\n",
       "      <td>NaN</td>\n",
       "      <td>7.90</td>\n",
       "      <td>2.33</td>\n",
       "      <td>12.54</td>\n",
       "      <td>...</td>\n",
       "      <td>7.63</td>\n",
       "      <td>3.49</td>\n",
       "      <td>6.81</td>\n",
       "      <td>8.85</td>\n",
       "      <td>9.05</td>\n",
       "      <td>14.21</td>\n",
       "      <td>15.76</td>\n",
       "      <td>12.45</td>\n",
       "      <td>6.78</td>\n",
       "      <td>3.94</td>\n",
       "    </tr>\n",
       "    <tr>\n",
       "      <th>1339</th>\n",
       "      <td>2022-10-20 00:00:00</td>\n",
       "      <td>11.20</td>\n",
       "      <td>16.12</td>\n",
       "      <td>NaN</td>\n",
       "      <td>8.64</td>\n",
       "      <td>1.72</td>\n",
       "      <td>NaN</td>\n",
       "      <td>7.88</td>\n",
       "      <td>2.32</td>\n",
       "      <td>12.27</td>\n",
       "      <td>...</td>\n",
       "      <td>7.78</td>\n",
       "      <td>3.48</td>\n",
       "      <td>6.82</td>\n",
       "      <td>8.77</td>\n",
       "      <td>9.00</td>\n",
       "      <td>14.33</td>\n",
       "      <td>15.70</td>\n",
       "      <td>13.33</td>\n",
       "      <td>6.82</td>\n",
       "      <td>3.85</td>\n",
       "    </tr>\n",
       "  </tbody>\n",
       "</table>\n",
       "<p>1340 rows × 5168 columns</p>\n",
       "</div>"
      ],
      "text/plain": [
       "                 Datetime  000001  000002  000003  000004  000005  000006  \\\n",
       "0     2017-04-18 00:00:00    7.99   14.49     NaN     NaN    6.31     NaN   \n",
       "1     2017-04-19 00:00:00    7.85   14.55     NaN     NaN    6.19     NaN   \n",
       "2     2017-04-20 00:00:00    7.86   14.65     NaN     NaN    6.16     NaN   \n",
       "3     2017-04-21 00:00:00    7.91   14.70     NaN     NaN    6.19     NaN   \n",
       "4     2017-04-24 00:00:00    7.87   14.45     NaN     NaN    6.01     NaN   \n",
       "...                   ...     ...     ...     ...     ...     ...     ...   \n",
       "1335  2022-10-14 00:00:00   11.53   17.02     NaN    8.55    1.72     NaN   \n",
       "1336  2022-10-17 00:00:00   11.48   16.60     NaN    8.80    1.73     NaN   \n",
       "1337  2022-10-18 00:00:00   11.48   16.38     NaN    8.83    1.74     NaN   \n",
       "1338  2022-10-19 00:00:00   11.29   16.17     NaN    8.70    1.71     NaN   \n",
       "1339  2022-10-20 00:00:00   11.20   16.12     NaN    8.64    1.72     NaN   \n",
       "\n",
       "      000007  000008  000009  ...  871396  871553  871642  871857  871970  \\\n",
       "0        NaN    8.71    7.57  ...     NaN     NaN     NaN     NaN     NaN   \n",
       "1        NaN    8.62    7.44  ...     NaN     NaN     NaN     NaN     NaN   \n",
       "2        NaN    8.62    7.49  ...     NaN     NaN     NaN     NaN     NaN   \n",
       "3        NaN    8.67    7.38  ...     NaN     NaN     NaN     NaN     NaN   \n",
       "4        NaN    8.56    7.02  ...     NaN     NaN     NaN     NaN     NaN   \n",
       "...      ...     ...     ...  ...     ...     ...     ...     ...     ...   \n",
       "1335    7.94    2.27   12.63  ...    7.62    3.46    6.76    8.78    9.08   \n",
       "1336    7.93    2.29   12.50  ...    7.60    3.51    7.03    8.86    9.15   \n",
       "1337    7.92    2.40   12.82  ...    7.63    3.49    6.97    8.85    9.10   \n",
       "1338    7.90    2.33   12.54  ...    7.63    3.49    6.81    8.85    9.05   \n",
       "1339    7.88    2.32   12.27  ...    7.78    3.48    6.82    8.77    9.00   \n",
       "\n",
       "      871981  872925  873122  873169  873223  \n",
       "0        NaN     NaN     NaN     NaN     NaN  \n",
       "1        NaN     NaN     NaN     NaN     NaN  \n",
       "2        NaN     NaN     NaN     NaN     NaN  \n",
       "3        NaN     NaN     NaN     NaN     NaN  \n",
       "4        NaN     NaN     NaN     NaN     NaN  \n",
       "...      ...     ...     ...     ...     ...  \n",
       "1335   14.56   16.11   11.39    6.68    3.97  \n",
       "1336   14.57   16.03   11.53    6.90    3.92  \n",
       "1337   14.62   15.62   13.02    7.04    4.03  \n",
       "1338   14.21   15.76   12.45    6.78    3.94  \n",
       "1339   14.33   15.70   13.33    6.82    3.85  \n",
       "\n",
       "[1340 rows x 5168 columns]"
      ]
     },
     "execution_count": 19,
     "metadata": {},
     "output_type": "execute_result"
    }
   ],
   "source": [
    "total_df"
   ]
  },
  {
   "cell_type": "markdown",
   "id": "c9cfdeb0",
   "metadata": {},
   "source": [
    "##### посмотрим, сколько Nan по колонкам (1)"
   ]
  },
  {
   "cell_type": "code",
   "execution_count": 20,
   "id": "b639c4ba",
   "metadata": {},
   "outputs": [
    {
     "name": "stdout",
     "output_type": "stream",
     "text": [
      "В 1989 колонках Nan больше 10%\n"
     ]
    }
   ],
   "source": [
    "cacl_Nan_col(total_df, 0.1, return_Flag = False)"
   ]
  },
  {
   "cell_type": "code",
   "execution_count": 21,
   "id": "617676da",
   "metadata": {},
   "outputs": [],
   "source": [
    "del_col_list = cacl_Nan_col(total_df, 0.1)\n",
    "total_df.drop(columns = del_col_list,axis = 1, inplace=True)"
   ]
  },
  {
   "cell_type": "markdown",
   "id": "c703eeb9",
   "metadata": {},
   "source": [
    "##### теперь чистим по строкам (1)"
   ]
  },
  {
   "cell_type": "code",
   "execution_count": 22,
   "id": "82213e81",
   "metadata": {},
   "outputs": [
    {
     "name": "stdout",
     "output_type": "stream",
     "text": [
      "В 35 строках Nan больше 10%\n"
     ]
    }
   ],
   "source": [
    "cacl_Nan_row(total_df, 0.1, return_Flag = False)"
   ]
  },
  {
   "cell_type": "markdown",
   "id": "9c647859",
   "metadata": {},
   "source": [
    "удалим строки с Nan более 10%"
   ]
  },
  {
   "cell_type": "code",
   "execution_count": 23,
   "id": "9b7b5188",
   "metadata": {},
   "outputs": [],
   "source": [
    "bad_index = cacl_Nan_row(total_df, 0.1)\n",
    "total_df = total_df.drop(index=bad_index)\n",
    "total_df = total_df.reset_index(drop = True)"
   ]
  },
  {
   "cell_type": "markdown",
   "id": "36677c2c",
   "metadata": {},
   "source": [
    "##### снова пройдемся по данным, в случаях где длина пропуска <=3, заместим средним (2)"
   ]
  },
  {
   "cell_type": "code",
   "execution_count": 24,
   "id": "18a4de13",
   "metadata": {},
   "outputs": [],
   "source": [
    "for i in list(total_df.columns)[1:]:\n",
    "    ts = list(total_df[i])\n",
    "    ts = fill_na_custom_long(ts, 3)\n",
    "    total_df[i] = ts"
   ]
  },
  {
   "cell_type": "markdown",
   "id": "0ae92fcc",
   "metadata": {},
   "source": [
    "##### снова почистим колонки (2)"
   ]
  },
  {
   "cell_type": "code",
   "execution_count": 25,
   "id": "624fbf43",
   "metadata": {},
   "outputs": [
    {
     "name": "stdout",
     "output_type": "stream",
     "text": [
      "В 375 колонках Nan больше 5%\n"
     ]
    }
   ],
   "source": [
    "cacl_Nan_col(total_df, 0.05,  return_Flag = False)"
   ]
  },
  {
   "cell_type": "code",
   "execution_count": 26,
   "id": "8e327d80",
   "metadata": {},
   "outputs": [],
   "source": [
    "# снова удалим колонки с Nan больше 5%\n",
    "del_col_list = cacl_Nan_col(total_df, 0.05)\n",
    "total_df.drop(columns = del_col_list,axis = 1, inplace=True)"
   ]
  },
  {
   "cell_type": "markdown",
   "id": "75a99cc4",
   "metadata": {},
   "source": [
    "##### снова почистим строки (2)"
   ]
  },
  {
   "cell_type": "code",
   "execution_count": 27,
   "id": "29172df5",
   "metadata": {},
   "outputs": [
    {
     "name": "stdout",
     "output_type": "stream",
     "text": [
      "В 25 строках Nan больше 5%\n"
     ]
    }
   ],
   "source": [
    "cacl_Nan_row(total_df, 0.05, return_Flag = False)"
   ]
  },
  {
   "cell_type": "code",
   "execution_count": 28,
   "id": "7ab995a4",
   "metadata": {},
   "outputs": [],
   "source": [
    "# Удаляем строки с Nan более 5%\n",
    "bad_index = cacl_Nan_row(total_df, 0.05)\n",
    "total_df = total_df.drop(index=bad_index)\n",
    "total_df = total_df.reset_index(drop = True)"
   ]
  },
  {
   "cell_type": "code",
   "execution_count": 29,
   "id": "e16c5722",
   "metadata": {},
   "outputs": [
    {
     "data": {
      "text/plain": [
       "Text(0, 0.5, 'Число Nan')"
      ]
     },
     "execution_count": 29,
     "metadata": {},
     "output_type": "execute_result"
    },
    {
     "data": {
      "image/png": "[encoded data removed]",
      "text/plain": [
       "<Figure size 640x480 with 1 Axes>"
      ]
     },
     "metadata": {},
     "output_type": "display_data"
    }
   ],
   "source": [
    "sub_df = pd.DataFrame(total_df.isnull().sum(axis = 1))\n",
    "x = list(sub_df.index)\n",
    "y = list(sub_df[0])\n",
    "\n",
    "fig, ax = plt.subplots()\n",
    "ax.plot(x,y)\n",
    "plt.xlabel('Дата' , size=16)\n",
    "plt.grid()\n",
    "plt.ylabel('Число Nan', size=16)"
   ]
  },
  {
   "cell_type": "markdown",
   "id": "ee042b29",
   "metadata": {},
   "source": [
    "##### снова пройдемся по данным, в случаях где длина пропуска <=6, заместим средним (3)"
   ]
  },
  {
   "cell_type": "code",
   "execution_count": 30,
   "id": "deaf822a",
   "metadata": {},
   "outputs": [],
   "source": [
    "for i in list(total_df.columns)[1:]:\n",
    "    ts = list(total_df[i])\n",
    "    ts = fill_na_custom_long(ts, 6)\n",
    "    total_df[i] = ts"
   ]
  },
  {
   "cell_type": "markdown",
   "id": "a5ab86ec",
   "metadata": {},
   "source": [
    "##### и снова почистим колонки (3)"
   ]
  },
  {
   "cell_type": "code",
   "execution_count": 31,
   "id": "cbd04416",
   "metadata": {},
   "outputs": [
    {
     "name": "stdout",
     "output_type": "stream",
     "text": [
      "В 204 колонках Nan больше 2%\n"
     ]
    }
   ],
   "source": [
    "cacl_Nan_col(total_df, 0.02,  return_Flag = False)"
   ]
  },
  {
   "cell_type": "code",
   "execution_count": 32,
   "id": "1f1add9c",
   "metadata": {},
   "outputs": [],
   "source": [
    "# снова удалим колонки с Nan больше 2%\n",
    "del_col_list = cacl_Nan_col(total_df, 0.02)\n",
    "total_df.drop(columns = del_col_list,axis = 1, inplace=True)"
   ]
  },
  {
   "cell_type": "markdown",
   "id": "2ec71508",
   "metadata": {},
   "source": [
    "##### и снова почистим строки (3)"
   ]
  },
  {
   "cell_type": "code",
   "execution_count": 33,
   "id": "09d4b359",
   "metadata": {},
   "outputs": [
    {
     "name": "stdout",
     "output_type": "stream",
     "text": [
      "В 29 строках Nan больше 1%\n"
     ]
    }
   ],
   "source": [
    "cacl_Nan_row(total_df, 0.01, return_Flag = False)"
   ]
  },
  {
   "cell_type": "code",
   "execution_count": 34,
   "id": "fcc779d7",
   "metadata": {},
   "outputs": [],
   "source": [
    "# Удаляем строки с Nan более 1%\n",
    "bad_index = cacl_Nan_row(total_df, 0.01)\n",
    "total_df = total_df.drop(index=bad_index)\n",
    "total_df = total_df.reset_index(drop = True)"
   ]
  },
  {
   "cell_type": "markdown",
   "id": "a30e7e71",
   "metadata": {},
   "source": [
    "##### снова пройдемся по данным, в случаях где длина пропуска <= 6, заместим средним (4)"
   ]
  },
  {
   "cell_type": "code",
   "execution_count": 35,
   "id": "4a4c0208",
   "metadata": {},
   "outputs": [],
   "source": [
    "for i in list(total_df.columns)[1:]:\n",
    "    ts = list(total_df[i])\n",
    "    ts = fill_na_custom_long(ts, 3)\n",
    "    total_df[i] = ts"
   ]
  },
  {
   "cell_type": "markdown",
   "id": "b15d8fb3",
   "metadata": {},
   "source": [
    "##### и снова почистим колонки (4)"
   ]
  },
  {
   "cell_type": "code",
   "execution_count": 36,
   "id": "a0dc7730",
   "metadata": {},
   "outputs": [
    {
     "name": "stdout",
     "output_type": "stream",
     "text": [
      "В 462 колонках Nan больше 0%\n"
     ]
    }
   ],
   "source": [
    "cacl_Nan_col(total_df, 0.005,  return_Flag = False)"
   ]
  },
  {
   "cell_type": "code",
   "execution_count": 37,
   "id": "e905d057",
   "metadata": {},
   "outputs": [],
   "source": [
    "# снова удалим колонки с Nan больше 0.5%\n",
    "del_col_list = cacl_Nan_col(total_df, 0.005)\n",
    "total_df.drop(columns = del_col_list,axis = 1, inplace=True)"
   ]
  },
  {
   "cell_type": "markdown",
   "id": "a7e14692",
   "metadata": {},
   "source": [
    "проверим число Nan"
   ]
  },
  {
   "cell_type": "code",
   "execution_count": 38,
   "id": "7d6b96ec",
   "metadata": {},
   "outputs": [
    {
     "data": {
      "text/plain": [
       "Text(0, 0.5, 'Число Nan')"
      ]
     },
     "execution_count": 38,
     "metadata": {},
     "output_type": "execute_result"
    },
    {
     "data": {
      "image/png": "[encoded data removed]",
      "text/plain": [
       "<Figure size 640x480 with 1 Axes>"
      ]
     },
     "metadata": {},
     "output_type": "display_data"
    }
   ],
   "source": [
    "sub_df = pd.DataFrame(total_df.isnull().sum(axis = 1))\n",
    "x = list(sub_df.index)\n",
    "y = list(sub_df[0])\n",
    "\n",
    "fig, ax = plt.subplots()\n",
    "ax.plot(x,y)\n",
    "plt.xlabel('Дата' , size=16)\n",
    "plt.grid()\n",
    "plt.ylabel('Число Nan', size=16)"
   ]
  },
  {
   "cell_type": "markdown",
   "id": "f049f68d",
   "metadata": {},
   "source": [
    "##### снова пройдемся по данным, в случаях где длина пропуска <= 5, заместим линейной аппроксимацией. Остальное выкинем"
   ]
  },
  {
   "cell_type": "code",
   "execution_count": 39,
   "id": "01f1732b",
   "metadata": {},
   "outputs": [],
   "source": [
    "for i in list(total_df.columns)[1:]:\n",
    "    ts = list(total_df[i])\n",
    "    ts = fill_na_custom_long(ts, 5)\n",
    "    total_df[i] = ts"
   ]
  },
  {
   "cell_type": "code",
   "execution_count": 40,
   "id": "c65c3927",
   "metadata": {},
   "outputs": [
    {
     "data": {
      "text/html": [
       "<div>\n",
       "<style scoped>\n",
       "    .dataframe tbody tr th:only-of-type {\n",
       "        vertical-align: middle;\n",
       "    }\n",
       "\n",
       "    .dataframe tbody tr th {\n",
       "        vertical-align: top;\n",
       "    }\n",
       "\n",
       "    .dataframe thead th {\n",
       "        text-align: right;\n",
       "    }\n",
       "</style>\n",
       "<table border=\"1\" class=\"dataframe\">\n",
       "  <thead>\n",
       "    <tr style=\"text-align: right;\">\n",
       "      <th></th>\n",
       "      <th>Datetime</th>\n",
       "      <th>000001</th>\n",
       "      <th>000002</th>\n",
       "      <th>000005</th>\n",
       "      <th>000009</th>\n",
       "      <th>000010</th>\n",
       "      <th>000011</th>\n",
       "      <th>000012</th>\n",
       "      <th>000014</th>\n",
       "      <th>000017</th>\n",
       "      <th>...</th>\n",
       "      <th>603978</th>\n",
       "      <th>603979</th>\n",
       "      <th>603980</th>\n",
       "      <th>603985</th>\n",
       "      <th>603987</th>\n",
       "      <th>603989</th>\n",
       "      <th>603990</th>\n",
       "      <th>603991</th>\n",
       "      <th>603993</th>\n",
       "      <th>603999</th>\n",
       "    </tr>\n",
       "  </thead>\n",
       "  <tbody>\n",
       "    <tr>\n",
       "      <th>61</th>\n",
       "      <td>2017-11-08 00:00:00</td>\n",
       "      <td>11.22</td>\n",
       "      <td>22.45</td>\n",
       "      <td>4.61</td>\n",
       "      <td>6.58</td>\n",
       "      <td>6.17</td>\n",
       "      <td>17.00</td>\n",
       "      <td>6.15</td>\n",
       "      <td>13.26</td>\n",
       "      <td>7.30</td>\n",
       "      <td>...</td>\n",
       "      <td>51.07</td>\n",
       "      <td>11.57</td>\n",
       "      <td>15.34</td>\n",
       "      <td>9.41</td>\n",
       "      <td>11.19</td>\n",
       "      <td>28.54</td>\n",
       "      <td>16.11</td>\n",
       "      <td>34.77</td>\n",
       "      <td>6.59</td>\n",
       "      <td>8.87</td>\n",
       "    </tr>\n",
       "    <tr>\n",
       "      <th>62</th>\n",
       "      <td>2017-11-09 00:00:00</td>\n",
       "      <td>11.42</td>\n",
       "      <td>22.48</td>\n",
       "      <td>4.65</td>\n",
       "      <td>6.56</td>\n",
       "      <td>6.12</td>\n",
       "      <td>16.90</td>\n",
       "      <td>6.17</td>\n",
       "      <td>13.25</td>\n",
       "      <td>7.29</td>\n",
       "      <td>...</td>\n",
       "      <td>50.09</td>\n",
       "      <td>11.54</td>\n",
       "      <td>15.40</td>\n",
       "      <td>9.40</td>\n",
       "      <td>11.11</td>\n",
       "      <td>29.05</td>\n",
       "      <td>16.25</td>\n",
       "      <td>35.15</td>\n",
       "      <td>6.55</td>\n",
       "      <td>8.86</td>\n",
       "    </tr>\n",
       "    <tr>\n",
       "      <th>101</th>\n",
       "      <td>2018-01-08 00:00:00</td>\n",
       "      <td>12.05</td>\n",
       "      <td>30.80</td>\n",
       "      <td>4.37</td>\n",
       "      <td>6.15</td>\n",
       "      <td>6.20</td>\n",
       "      <td>15.83</td>\n",
       "      <td>6.58</td>\n",
       "      <td>11.04</td>\n",
       "      <td>6.32</td>\n",
       "      <td>...</td>\n",
       "      <td>42.70</td>\n",
       "      <td>10.09</td>\n",
       "      <td>13.83</td>\n",
       "      <td>8.11</td>\n",
       "      <td>7.96</td>\n",
       "      <td>28.06</td>\n",
       "      <td>16.12</td>\n",
       "      <td>27.64</td>\n",
       "      <td>6.97</td>\n",
       "      <td>7.57</td>\n",
       "    </tr>\n",
       "    <tr>\n",
       "      <th>102</th>\n",
       "      <td>2018-01-09 00:00:00</td>\n",
       "      <td>12.17</td>\n",
       "      <td>30.65</td>\n",
       "      <td>4.41</td>\n",
       "      <td>6.12</td>\n",
       "      <td>6.01</td>\n",
       "      <td>15.70</td>\n",
       "      <td>6.60</td>\n",
       "      <td>10.66</td>\n",
       "      <td>6.29</td>\n",
       "      <td>...</td>\n",
       "      <td>42.01</td>\n",
       "      <td>10.04</td>\n",
       "      <td>13.54</td>\n",
       "      <td>7.96</td>\n",
       "      <td>8.42</td>\n",
       "      <td>28.81</td>\n",
       "      <td>15.98</td>\n",
       "      <td>27.64</td>\n",
       "      <td>6.91</td>\n",
       "      <td>7.61</td>\n",
       "    </tr>\n",
       "    <tr>\n",
       "      <th>103</th>\n",
       "      <td>2018-01-10 00:00:00</td>\n",
       "      <td>12.56</td>\n",
       "      <td>30.48</td>\n",
       "      <td>4.32</td>\n",
       "      <td>6.03</td>\n",
       "      <td>5.97</td>\n",
       "      <td>15.40</td>\n",
       "      <td>6.46</td>\n",
       "      <td>10.49</td>\n",
       "      <td>6.23</td>\n",
       "      <td>...</td>\n",
       "      <td>41.65</td>\n",
       "      <td>9.86</td>\n",
       "      <td>13.24</td>\n",
       "      <td>7.78</td>\n",
       "      <td>8.25</td>\n",
       "      <td>31.87</td>\n",
       "      <td>15.72</td>\n",
       "      <td>27.04</td>\n",
       "      <td>6.88</td>\n",
       "      <td>7.41</td>\n",
       "    </tr>\n",
       "    <tr>\n",
       "      <th>...</th>\n",
       "      <td>...</td>\n",
       "      <td>...</td>\n",
       "      <td>...</td>\n",
       "      <td>...</td>\n",
       "      <td>...</td>\n",
       "      <td>...</td>\n",
       "      <td>...</td>\n",
       "      <td>...</td>\n",
       "      <td>...</td>\n",
       "      <td>...</td>\n",
       "      <td>...</td>\n",
       "      <td>...</td>\n",
       "      <td>...</td>\n",
       "      <td>...</td>\n",
       "      <td>...</td>\n",
       "      <td>...</td>\n",
       "      <td>...</td>\n",
       "      <td>...</td>\n",
       "      <td>...</td>\n",
       "      <td>...</td>\n",
       "      <td>...</td>\n",
       "    </tr>\n",
       "    <tr>\n",
       "      <th>1228</th>\n",
       "      <td>2022-09-13 00:00:00</td>\n",
       "      <td>12.95</td>\n",
       "      <td>18.18</td>\n",
       "      <td>1.87</td>\n",
       "      <td>14.62</td>\n",
       "      <td>3.70</td>\n",
       "      <td>10.43</td>\n",
       "      <td>6.91</td>\n",
       "      <td>9.04</td>\n",
       "      <td>4.25</td>\n",
       "      <td>...</td>\n",
       "      <td>23.50</td>\n",
       "      <td>21.39</td>\n",
       "      <td>5.27</td>\n",
       "      <td>28.13</td>\n",
       "      <td>15.77</td>\n",
       "      <td>27.58</td>\n",
       "      <td>21.42</td>\n",
       "      <td>40.27</td>\n",
       "      <td>5.22</td>\n",
       "      <td>5.31</td>\n",
       "    </tr>\n",
       "    <tr>\n",
       "      <th>1229</th>\n",
       "      <td>2022-09-14 00:00:00</td>\n",
       "      <td>12.73</td>\n",
       "      <td>17.91</td>\n",
       "      <td>1.87</td>\n",
       "      <td>14.34</td>\n",
       "      <td>3.71</td>\n",
       "      <td>10.54</td>\n",
       "      <td>7.60</td>\n",
       "      <td>9.94</td>\n",
       "      <td>4.20</td>\n",
       "      <td>...</td>\n",
       "      <td>23.19</td>\n",
       "      <td>20.97</td>\n",
       "      <td>5.19</td>\n",
       "      <td>27.38</td>\n",
       "      <td>15.51</td>\n",
       "      <td>28.43</td>\n",
       "      <td>21.15</td>\n",
       "      <td>40.06</td>\n",
       "      <td>5.12</td>\n",
       "      <td>5.19</td>\n",
       "    </tr>\n",
       "    <tr>\n",
       "      <th>1240</th>\n",
       "      <td>2022-09-29 00:00:00</td>\n",
       "      <td>11.86</td>\n",
       "      <td>17.15</td>\n",
       "      <td>1.67</td>\n",
       "      <td>11.55</td>\n",
       "      <td>3.18</td>\n",
       "      <td>9.11</td>\n",
       "      <td>7.35</td>\n",
       "      <td>8.07</td>\n",
       "      <td>3.97</td>\n",
       "      <td>...</td>\n",
       "      <td>21.62</td>\n",
       "      <td>20.29</td>\n",
       "      <td>4.67</td>\n",
       "      <td>25.79</td>\n",
       "      <td>15.00</td>\n",
       "      <td>27.79</td>\n",
       "      <td>19.51</td>\n",
       "      <td>36.69</td>\n",
       "      <td>4.72</td>\n",
       "      <td>4.75</td>\n",
       "    </tr>\n",
       "    <tr>\n",
       "      <th>1241</th>\n",
       "      <td>2022-09-30 00:00:00</td>\n",
       "      <td>11.84</td>\n",
       "      <td>17.83</td>\n",
       "      <td>1.68</td>\n",
       "      <td>11.22</td>\n",
       "      <td>3.15</td>\n",
       "      <td>9.19</td>\n",
       "      <td>6.94</td>\n",
       "      <td>8.26</td>\n",
       "      <td>3.76</td>\n",
       "      <td>...</td>\n",
       "      <td>20.70</td>\n",
       "      <td>20.21</td>\n",
       "      <td>4.64</td>\n",
       "      <td>24.90</td>\n",
       "      <td>15.27</td>\n",
       "      <td>27.95</td>\n",
       "      <td>18.83</td>\n",
       "      <td>38.40</td>\n",
       "      <td>4.72</td>\n",
       "      <td>4.74</td>\n",
       "    </tr>\n",
       "    <tr>\n",
       "      <th>1242</th>\n",
       "      <td>2022-10-10 00:00:00</td>\n",
       "      <td>11.47</td>\n",
       "      <td>17.76</td>\n",
       "      <td>1.67</td>\n",
       "      <td>10.95</td>\n",
       "      <td>3.07</td>\n",
       "      <td>9.11</td>\n",
       "      <td>6.80</td>\n",
       "      <td>8.33</td>\n",
       "      <td>3.60</td>\n",
       "      <td>...</td>\n",
       "      <td>20.15</td>\n",
       "      <td>20.10</td>\n",
       "      <td>4.61</td>\n",
       "      <td>23.86</td>\n",
       "      <td>14.65</td>\n",
       "      <td>27.38</td>\n",
       "      <td>18.37</td>\n",
       "      <td>35.58</td>\n",
       "      <td>4.51</td>\n",
       "      <td>4.65</td>\n",
       "    </tr>\n",
       "  </tbody>\n",
       "</table>\n",
       "<p>562 rows × 2138 columns</p>\n",
       "</div>"
      ],
      "text/plain": [
       "                 Datetime  000001  000002  000005  000009  000010  000011  \\\n",
       "61    2017-11-08 00:00:00   11.22   22.45    4.61    6.58    6.17   17.00   \n",
       "62    2017-11-09 00:00:00   11.42   22.48    4.65    6.56    6.12   16.90   \n",
       "101   2018-01-08 00:00:00   12.05   30.80    4.37    6.15    6.20   15.83   \n",
       "102   2018-01-09 00:00:00   12.17   30.65    4.41    6.12    6.01   15.70   \n",
       "103   2018-01-10 00:00:00   12.56   30.48    4.32    6.03    5.97   15.40   \n",
       "...                   ...     ...     ...     ...     ...     ...     ...   \n",
       "1228  2022-09-13 00:00:00   12.95   18.18    1.87   14.62    3.70   10.43   \n",
       "1229  2022-09-14 00:00:00   12.73   17.91    1.87   14.34    3.71   10.54   \n",
       "1240  2022-09-29 00:00:00   11.86   17.15    1.67   11.55    3.18    9.11   \n",
       "1241  2022-09-30 00:00:00   11.84   17.83    1.68   11.22    3.15    9.19   \n",
       "1242  2022-10-10 00:00:00   11.47   17.76    1.67   10.95    3.07    9.11   \n",
       "\n",
       "      000012  000014  000017  ...  603978  603979  603980  603985  603987  \\\n",
       "61      6.15   13.26    7.30  ...   51.07   11.57   15.34    9.41   11.19   \n",
       "62      6.17   13.25    7.29  ...   50.09   11.54   15.40    9.40   11.11   \n",
       "101     6.58   11.04    6.32  ...   42.70   10.09   13.83    8.11    7.96   \n",
       "102     6.60   10.66    6.29  ...   42.01   10.04   13.54    7.96    8.42   \n",
       "103     6.46   10.49    6.23  ...   41.65    9.86   13.24    7.78    8.25   \n",
       "...      ...     ...     ...  ...     ...     ...     ...     ...     ...   \n",
       "1228    6.91    9.04    4.25  ...   23.50   21.39    5.27   28.13   15.77   \n",
       "1229    7.60    9.94    4.20  ...   23.19   20.97    5.19   27.38   15.51   \n",
       "1240    7.35    8.07    3.97  ...   21.62   20.29    4.67   25.79   15.00   \n",
       "1241    6.94    8.26    3.76  ...   20.70   20.21    4.64   24.90   15.27   \n",
       "1242    6.80    8.33    3.60  ...   20.15   20.10    4.61   23.86   14.65   \n",
       "\n",
       "      603989  603990  603991  603993  603999  \n",
       "61     28.54   16.11   34.77    6.59    8.87  \n",
       "62     29.05   16.25   35.15    6.55    8.86  \n",
       "101    28.06   16.12   27.64    6.97    7.57  \n",
       "102    28.81   15.98   27.64    6.91    7.61  \n",
       "103    31.87   15.72   27.04    6.88    7.41  \n",
       "...      ...     ...     ...     ...     ...  \n",
       "1228   27.58   21.42   40.27    5.22    5.31  \n",
       "1229   28.43   21.15   40.06    5.12    5.19  \n",
       "1240   27.79   19.51   36.69    4.72    4.75  \n",
       "1241   27.95   18.83   38.40    4.72    4.74  \n",
       "1242   27.38   18.37   35.58    4.51    4.65  \n",
       "\n",
       "[562 rows x 2138 columns]"
      ]
     },
     "execution_count": 40,
     "metadata": {},
     "output_type": "execute_result"
    }
   ],
   "source": [
    "total_df_final = total_df.dropna()\n",
    "total_df_final"
   ]
  },
  {
   "cell_type": "markdown",
   "id": "0e7dc720",
   "metadata": {},
   "source": [
    "проверим, насколько все плохо с разрывами"
   ]
  },
  {
   "cell_type": "code",
   "execution_count": 41,
   "id": "d9ee4784",
   "metadata": {},
   "outputs": [],
   "source": [
    "actual_date = list(total_df_final['Datetime'])"
   ]
  },
  {
   "cell_type": "code",
   "execution_count": 42,
   "id": "d120cab6",
   "metadata": {},
   "outputs": [],
   "source": [
    "y = list()\n",
    "\n",
    "for i in start_date:\n",
    "    if i in actual_date:\n",
    "        y.append(1)\n",
    "    else:\n",
    "        y.append(0)"
   ]
  },
  {
   "cell_type": "code",
   "execution_count": 43,
   "id": "bc5b1d26",
   "metadata": {},
   "outputs": [
    {
     "data": {
      "text/plain": [
       "Text(0, 0.5, 'Есть ли он в результате')"
      ]
     },
     "execution_count": 43,
     "metadata": {},
     "output_type": "execute_result"
    },
    {
     "data": {
      "image/png": "[encoded data removed]",
      "text/plain": [
       "<Figure size 640x480 with 1 Axes>"
      ]
     },
     "metadata": {},
     "output_type": "display_data"
    }
   ],
   "source": [
    "x = np.arange(0,len(start_date))\n",
    "\n",
    "fig, ax = plt.subplots()\n",
    "ax.plot(x,y)\n",
    "plt.xlabel('День в исходной выборке' , size=16)\n",
    "plt.grid()\n",
    "plt.ylabel('Есть ли он в результате', size=16)"
   ]
  },
  {
   "cell_type": "markdown",
   "id": "cb5f1ab8",
   "metadata": {},
   "source": [
    "визуально, разрывы не превышают 2 месяцев (60 дней). Придется оставить так, т.к. иначе ряды станут еще короче"
   ]
  },
  {
   "cell_type": "code",
   "execution_count": 93,
   "id": "aecce4c4",
   "metadata": {},
   "outputs": [],
   "source": []
  },
  {
   "cell_type": "markdown",
   "id": "16dddfa7",
   "metadata": {},
   "source": [
    "удалим отрицательные цены"
   ]
  },
  {
   "cell_type": "code",
   "execution_count": 55,
   "id": "2862a797",
   "metadata": {},
   "outputs": [],
   "source": [
    "good_tickers = list()\n",
    "\n",
    "for i in list(total_df.columns)[1:]:\n",
    "    ts = list(total_df[i])\n",
    "    if all([i>=0 for i in ts]):\n",
    "        good_tickers.append(i)"
   ]
  },
  {
   "cell_type": "code",
   "execution_count": 58,
   "id": "897b59cb",
   "metadata": {},
   "outputs": [],
   "source": [
    "total_df_final = total_df_final[good_tickers]"
   ]
  },
  {
   "cell_type": "code",
   "execution_count": 59,
   "id": "5e6f584e",
   "metadata": {},
   "outputs": [],
   "source": [
    "total_df_final.to_csv('data_final_v1_upd.csv', index = False)"
   ]
  },
  {
   "cell_type": "code",
   "execution_count": null,
   "id": "14562929",
   "metadata": {},
   "outputs": [],
   "source": []
  }
 ],
 "metadata": {
  "kernelspec": {
   "display_name": "Python 3 (ipykernel)",
   "language": "python",
   "name": "python3"
  },
  "language_info": {
   "codemirror_mode": {
    "name": "ipython",
    "version": 3
   },
   "file_extension": ".py",
   "mimetype": "text/x-python",
   "name": "python",
   "nbconvert_exporter": "python",
   "pygments_lexer": "ipython3",
   "version": "3.8.12"
  }
 },
 "nbformat": 4,
 "nbformat_minor": 5
}
